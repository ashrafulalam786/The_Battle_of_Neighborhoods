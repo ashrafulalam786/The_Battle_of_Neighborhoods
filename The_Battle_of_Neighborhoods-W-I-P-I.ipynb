{
 "cells": [
  {
   "cell_type": "markdown",
   "metadata": {},
   "source": [
    "# The Battle of the Neighborhoods (Week- I)"
   ]
  },
  {
   "cell_type": "markdown",
   "metadata": {},
   "source": [
    "## The Battle of the Neighborhoods"
   ]
  },
  {
   "cell_type": "markdown",
   "metadata": {},
   "source": [
    " ###      Problem Statement :"
   ]
  },
  {
   "cell_type": "markdown",
   "metadata": {},
   "source": [
    "Mr. TNM , Managing Director of ABC Corporation wants to open new resturent in New York City , USA."
   ]
  },
  {
   "cell_type": "markdown",
   "metadata": {},
   "source": [
    "### Background"
   ]
  },
  {
   "cell_type": "markdown",
   "metadata": {},
   "source": [
    "ABC Corporation is a big chain company with different business domain. They have lots of restaurant across the globe. Now they contact with us to support them for opening restaurant in New York City.\n",
    "\n",
    "They City of New York is a multicultural, business friendly city in United State, it has huge number of population. Generally US is popular for migration place, So, verity number of people staying in this city. They have different types of food habit / test. It has people from Europe who like continental cuisine, people from Africa who line African food and people from Asia and Middle East they like Indian and Arabic food. It has huge amount of people who loved chines and Japanese test. \n",
    "\n",
    "Due to nature of the city, market in NY is highly competitive and consist high risk. Before start any venture in this city, situation, location, and population has to be analyzed carefully with good number of artifact.  The insights derived from analysis will bring out proper understanding of the business environment which will help ABC Corporation to define strategy of the restaurant business and make plan to achieved break even and good RIO.    "
   ]
  },
  {
   "cell_type": "markdown",
   "metadata": {},
   "source": [
    "### Problem Description"
   ]
  },
  {
   "cell_type": "markdown",
   "metadata": {},
   "source": [
    "Restaurant Business strati n 18th Century, in 1765 a French chef by the name of A. Boulanger established a business selling soups and other food to customer.  Establishing any restaurant in any place needs to analysis the people behavior, cuisine, style of foods like by this commodity, Example, if any one open ham / pork burger restaurant in Middle EAST where Pork is not allow to the commodity then this restaurant will closed soon, similarly if any one open high class Ice-cream shop in poor village where people don’t have ability to consume ice-cream these business will not fly. \n",
    "\n",
    "The City of New York is famous for its excellent cuisine. It’s food culture includes an array of international cuisines influenced by the city's immigrant history / and mixture of people culture and test.\n",
    "•\tCentral and Eastern European people (bagels, cheesecake, hot dogs, knishes, and delicatessens)\n",
    "•\tItalian People ( New York-style pizza and Italian cuisine)\n",
    "•\tChinese and other Asian restaurants, sandwich joints, trattorias, diners, and coffeehouses are ubiquitous throughout the city\n",
    "•\tMobile food vendors - Some 4,000 licensed by the city\n",
    "•\tMiddle Eastern foods such as falafel and kebabs examples of modern New York street food\n",
    "•\tIt is famous for not just Pizzerias, Cafe's but also for fine dining Michelin starred restaurants. The city is home to \"nearly one thousand of the finest and most diverse haute cuisine restaurants in the world\", according to Michelin."
   ]
  },
  {
   "cell_type": "markdown",
   "metadata": {},
   "source": [
    "At the circumstances in New York (USA) , need very strong and visionary plan to survive in restaurant business . There has he level of plans \n",
    "1.\tPre Plan  : Analysis the location , demographic information , population and cultures\n",
    "2.\tShort Term Plan: Based on the analysis short term plan needs to take .\n",
    "3.\tMid Term Plan  \n",
    "4.\tLong term plan\n",
    "5.\tBackup Plan \n",
    "6.\tExit Plan\n",
    "\n",
    "Based on all analysis ABC Corporation needs to choose the correct location based on their business strategy. Location is important for any types of business. \n"
   ]
  },
  {
   "cell_type": "markdown",
   "metadata": {},
   "source": [
    "### Target Team "
   ]
  },
  {
   "cell_type": "markdown",
   "metadata": {},
   "source": [
    "To recommend the correct location, ABC Corporation, has appointed our XYZ Company to Perform Data Science ad provide them proper Guideline. As a lead of the Data Science team my objective is to locate and recommend to the management which neighborhood of NY City will be best choice to start a restaurant. The Management also expects to understand the rationale of the recommendations made."
   ]
  },
  {
   "cell_type": "markdown",
   "metadata": {},
   "source": [
    "### Acceptance Criteria:"
   ]
  },
  {
   "cell_type": "markdown",
   "metadata": {},
   "source": [
    "The Acceptance criteria of the project will be a good recommendation of orough/Neighborhood choice to ABC Corporation based Analysis and evidences. Our suggestion or recommendations should be accepted by higher management of ABC Corporation "
   ]
  },
  {
   "cell_type": "markdown",
   "metadata": {},
   "source": [
    "### ------------------------------------------------- END OF THE DOCUMENT --------------------------------------------------------------"
   ]
  },
  {
   "cell_type": "code",
   "execution_count": null,
   "metadata": {},
   "outputs": [],
   "source": []
  }
 ],
 "metadata": {
  "kernelspec": {
   "display_name": "Python 3",
   "language": "python",
   "name": "python3"
  },
  "language_info": {
   "codemirror_mode": {
    "name": "ipython",
    "version": 3
   },
   "file_extension": ".py",
   "mimetype": "text/x-python",
   "name": "python",
   "nbconvert_exporter": "python",
   "pygments_lexer": "ipython3",
   "version": "3.7.3"
  }
 },
 "nbformat": 4,
 "nbformat_minor": 2
}
